{
 "cells": [
  {
   "cell_type": "code",
   "execution_count": 1,
   "metadata": {
    "collapsed": true
   },
   "outputs": [],
   "source": [
    "#http://bokeh.pydata.org/en/latesyrst/docs/gallery/anscombe.html\n",
    "#https://www.dataquest.io/blog/python-vs-r/\n",
    "import numpy as np\n",
    "from bokeh.plotting import figure, show, output_file\n",
    "\n",
    "\n",
    "output_file(\"lines.html\", title = \"test title\")\n",
    "p = figure(title = \"title\", x_axis_label = 'x', y_axis_label = 'y')\n",
    "for i in range(1,len(yrs)):\n",
    "    print(yrs[1][i]) \n",
    "    p.line(yrs[1][i])\n",
    "show(p)\n"
   ]
  },
  {
   "cell_type": "code",
   "execution_count": null,
   "metadata": {
    "collapsed": true
   },
   "outputs": [],
   "source": []
  }
 ],
 "metadata": {
  "kernelspec": {
   "display_name": "Python 3",
   "language": "python",
   "name": "python3"
  },
  "language_info": {
   "codemirror_mode": {
    "name": "ipython",
    "version": 3
   },
   "file_extension": ".py",
   "mimetype": "text/x-python",
   "name": "python",
   "nbconvert_exporter": "python",
   "pygments_lexer": "ipython3",
   "version": "3.5.1"
  }
 },
 "nbformat": 4,
 "nbformat_minor": 0
}
