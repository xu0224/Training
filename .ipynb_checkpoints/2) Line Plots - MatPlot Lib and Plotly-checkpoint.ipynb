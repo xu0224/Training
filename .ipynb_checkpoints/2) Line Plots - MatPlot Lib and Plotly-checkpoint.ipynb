{
 "cells": [
  {
   "cell_type": "code",
   "execution_count": 1,
   "metadata": {
    "collapsed": false
   },
   "outputs": [],
   "source": [
    "#Note- This tutorial was not written by Me. It was taken from Randal Olson\n",
    "##My comments are with double hashes\n",
    "#Link: http://www.randalolson.com/2014/06/28/how-to-make-beautiful-data-visualizations-in-python-with-matplotlib/\n",
    "import matplotlib.pyplot as plt \n",
    "import plotly\n",
    "import pandas as pd  \n",
    "  \n",
    "# Read the data into a pandas DataFrame.    \n",
    "gender_degree_data = pd.read_csv(\"http://www.randalolson.com/wp-content/uploads/percent-bachelors-degrees-women-usa.csv\")    "
   ]
  },
  {
   "cell_type": "code",
   "execution_count": 2,
   "metadata": {
    "collapsed": false
   },
   "outputs": [
    {
     "data": {
      "text/plain": [
       "<matplotlib.figure.Figure at 0x1781fe920f0>"
      ]
     },
     "execution_count": 2,
     "metadata": {},
     "output_type": "execute_result"
    }
   ],
   "source": [
    "##Lesson 1 - Determine Figure Size\n",
    "# You typically want your plot to be ~1.33x wider than tall. This plot is a rare    \n",
    "# exception because of the number of lines being plotted on it.    \n",
    "# Common sizes: (10, 7.5) and (12, 9)    \n",
    "plt.figure(figsize=(12, 14))    "
   ]
  },
  {
   "cell_type": "code",
   "execution_count": 3,
   "metadata": {
    "collapsed": false
   },
   "outputs": [],
   "source": [
    "##Lesson 2- Format the plot image pt 1\n",
    "# Remove the plot frame lines. They are unnecessary chartjunk.    \n",
    "ax = plt.subplot(111)    \n",
    "ax.spines[\"top\"].set_visible(False)    \n",
    "ax.spines[\"bottom\"].set_visible(False)    \n",
    "ax.spines[\"right\"].set_visible(False)    \n",
    "ax.spines[\"left\"].set_visible(False)  \n",
    "\n",
    "#Let's see what the figure looks like\n",
    "plt.show()"
   ]
  },
  {
   "cell_type": "code",
   "execution_count": 4,
   "metadata": {
    "collapsed": false
   },
   "outputs": [],
   "source": [
    "##Lesson 3- Format the plot image pt 2\n",
    "# Ensure that the axis ticks only show up on the bottom and left of the plot.    \n",
    "# Ticks on the right and top of the plot are generally unnecessary chartjunk.    \n",
    "ax.get_xaxis().tick_bottom()    \n",
    "ax.get_yaxis().tick_left()\n",
    "  \n",
    "# Limit the range of the plot to only where the data is.    \n",
    "# Avoid unnecessary whitespace.    \n",
    "plt.ylim(0, 90)    \n",
    "plt.xlim(1968, 2014)    \n",
    "  \n",
    "# Make sure your axis ticks are large enough to be easily read.    \n",
    "# You don't want your viewers squinting to read your plot.    \n",
    "plt.yticks(range(0, 91, 10), [str(x) + \"%\" for x in range(0, 91, 10)], fontsize=14)    \n",
    "plt.xticks(fontsize=14)   \n",
    "\n",
    "#Let's see what the figure looks like\n",
    "#Notice the change in range values, and the location of tick marks\n",
    "plt.show()"
   ]
  },
  {
   "cell_type": "code",
   "execution_count": 5,
   "metadata": {
    "collapsed": true
   },
   "outputs": [],
   "source": [
    "## Lesson 4- Using colors with Matplotlib\n",
    "## Link to Tableau 20 colors: http://public.tableau.com/profile/chris.gerrard#!/vizhome/TableauColors/ColorPaletteswithRGBValues\n",
    "\n",
    "# These are the \"Tableau 20\" colors as RGB.    \n",
    "tableau20 = [(31, 119, 180), (174, 199, 232), (255, 127, 14), (255, 187, 120),    \n",
    "             (44, 160, 44), (152, 223, 138), (214, 39, 40), (255, 152, 150),    \n",
    "             (148, 103, 189), (197, 176, 213), (140, 86, 75), (196, 156, 148),    \n",
    "             (227, 119, 194), (247, 182, 210), (127, 127, 127), (199, 199, 199),    \n",
    "             (188, 189, 34), (219, 219, 141), (23, 190, 207), (158, 218, 229)]    \n",
    "  \n",
    "# Scale the RGB values to the [0, 1] range, which is the format matplotlib accepts.    \n",
    "## The values above go can be any value from 0 to 255\n",
    "for i in range(len(tableau20)):    \n",
    "    r, g, b = tableau20[i]    \n",
    "    tableau20[i] = (r / 255., g / 255., b / 255.)  "
   ]
  },
  {
   "cell_type": "code",
   "execution_count": 6,
   "metadata": {
    "collapsed": true
   },
   "outputs": [],
   "source": [
    "## Lesson 5- Plotting pt 1\n",
    "# Now that the plot is prepared, it's time to actually plot the data!    \n",
    "# Note that I plotted the majors in order of the highest % in the final year.    \n",
    "majors = ['Health Professions', 'Public Administration', 'Education', 'Psychology',    \n",
    "          'Foreign Languages', 'English', 'Communications\\nand Journalism',    \n",
    "          'Art and Performance', 'Biology', 'Agriculture',    \n",
    "          'Social Sciences and History', 'Business', 'Math and Statistics',    \n",
    "          'Architecture', 'Physical Sciences', 'Computer Science',    \n",
    "          'Engineering']   \n"
   ]
  },
  {
   "cell_type": "code",
   "execution_count": 7,
   "metadata": {
    "collapsed": false
   },
   "outputs": [],
   "source": [
    "## Lesson 6- Plotting pt 2\n",
    "for rank, column in enumerate(majors):    \n",
    "    # Plot each line separately with its own color, using the Tableau 20    \n",
    "    # color set in order.    \n",
    "    plt.plot(gender_degree_data.Year.values,    \n",
    "            gender_degree_data[column.replace(\"\\n\", \" \")].values,    \n",
    "            lw=2.5, color=tableau20[rank])    \n",
    "    \n",
    "#Let's see what the figure looks like\n",
    "plt.show()"
   ]
  },
  {
   "cell_type": "code",
   "execution_count": 8,
   "metadata": {
    "collapsed": false
   },
   "outputs": [],
   "source": [
    "## Lesson 7 - Adding Labels pt 1\n",
    "for rank, column in enumerate(majors):    \n",
    "    # Plot each line separately with its own color, using the Tableau 20    \n",
    "    # color set in order.    \n",
    "    plt.plot(gender_degree_data.Year.values,    \n",
    "            gender_degree_data[column.replace(\"\\n\", \" \")].values,    \n",
    "            lw=2.5, color=tableau20[rank])    \n",
    "  \n",
    "    # Add a text label to the right end of every line. Most of the code below    \n",
    "    # is adding specific offsets y position because some labels overlapped.    \n",
    "    y_pos = gender_degree_data[column.replace(\"\\n\", \" \")].values[-1] - 0.5     \n",
    "  \n",
    "    # Again, make sure that all labels are large enough to be easily read    \n",
    "    # by the viewer.    \n",
    "    plt.text(2011.5, y_pos, column, fontsize=14, color=tableau20[rank])  \n",
    "\n",
    "#Let's see what the figure looks like\n",
    "plt.show()"
   ]
  },
  {
   "cell_type": "code",
   "execution_count": 9,
   "metadata": {
    "collapsed": true
   },
   "outputs": [],
   "source": [
    "## Lesson 8 - Adding Labels pt 2\n",
    "for rank, column in enumerate(majors):    \n",
    "    # Plot each line separately with its own color, using the Tableau 20    \n",
    "    # color set in order.    \n",
    "    plt.plot(gender_degree_data.Year.values,    \n",
    "            gender_degree_data[column.replace(\"\\n\", \" \")].values,    \n",
    "            lw=2.5, color=tableau20[rank])    \n",
    "  \n",
    "    # Add a text label to the right end of every line. Most of the code below    \n",
    "    # is adding specific offsets y position because some labels overlapped.    \n",
    "    y_pos = gender_degree_data[column.replace(\"\\n\", \" \")].values[-1] - 0.5    \n",
    "    if column == \"Foreign Languages\":    \n",
    "        y_pos += 0.5    \n",
    "    elif column == \"English\":    \n",
    "        y_pos -= 0.5    \n",
    "    elif column == \"Communications\\nand Journalism\":    \n",
    "        y_pos += 0.75    \n",
    "    elif column == \"Art and Performance\":    \n",
    "        y_pos -= 0.25    \n",
    "    elif column == \"Agriculture\":    \n",
    "        y_pos += 1.25    \n",
    "    elif column == \"Social Sciences and History\":    \n",
    "        y_pos += 0.25    \n",
    "    elif column == \"Business\":    \n",
    "        y_pos -= 0.75    \n",
    "    elif column == \"Math and Statistics\":    \n",
    "        y_pos += 0.75    \n",
    "    elif column == \"Architecture\":    \n",
    "        y_pos -= 0.75    \n",
    "    elif column == \"Computer Science\":    \n",
    "        y_pos += 0.75    \n",
    "    elif column == \"Engineering\":    \n",
    "        y_pos -= 0.25    \n",
    "  \n",
    "    # Again, make sure that all labels are large enough to be easily read    \n",
    "    # by the viewer.    \n",
    "    plt.text(2011.5, y_pos, column, fontsize=14, color=tableau20[rank])  \n",
    "\n",
    "#Let's see what the figure looks like\n",
    "plt.show()"
   ]
  },
  {
   "cell_type": "code",
   "execution_count": 10,
   "metadata": {
    "collapsed": false
   },
   "outputs": [
    {
     "data": {
      "text/plain": [
       "<matplotlib.text.Text at 0x17824d2e828>"
      ]
     },
     "execution_count": 10,
     "metadata": {},
     "output_type": "execute_result"
    }
   ],
   "source": [
    "## Lesson 9 - Adding Title\n",
    "# matplotlib's title() call centers the title on the plot, but not the graph,    \n",
    "# so I used the text() call to customize where the title goes.    \n",
    "  \n",
    "# Make the title big enough so it spans the entire plot, but don't make it    \n",
    "# so big that it requires two lines to show.    \n",
    "  \n",
    "# Note that if the title is descriptive enough, it is unnecessary to include    \n",
    "# axis labels; they are self-evident, in this plot's case.    \n",
    "plt.text(1995, 93, \"Percentage of Bachelor's degrees conferred to women in the U.S.A.\"    \n",
    "       \", by major (1970-2012)\", fontsize=17, ha=\"center\") "
   ]
  },
  {
   "cell_type": "code",
   "execution_count": 11,
   "metadata": {
    "collapsed": false
   },
   "outputs": [
    {
     "data": {
      "text/plain": [
       "<matplotlib.text.Text at 0x17824cfec88>"
      ]
     },
     "execution_count": 11,
     "metadata": {},
     "output_type": "execute_result"
    }
   ],
   "source": [
    "## Lesson 10 - Adding Sources\n",
    "# Always include your data source(s) and copyright notice! And for your    \n",
    "# data sources, tell your viewers exactly where the data came from,    \n",
    "# preferably with a direct link to the data. Just telling your viewers    \n",
    "# that you used data from the \"U.S. Census Bureau\" is completely useless:    \n",
    "# the U.S. Census Bureau provides all kinds of data, so how are your    \n",
    "# viewers supposed to know which data set you used?    \n",
    "plt.text(1966, -8, \"Data source: nces.ed.gov/programs/digest/2013menu_tables.asp\"    \n",
    "       \"\\nAuthor: Randy Olson (randalolson.com / @randal_olson)\"    \n",
    "       \"\\nNote: Some majors are missing because the historical data \"    \n",
    "       \"is not available for them\", fontsize=10)  \n",
    "\n",
    "## Lesson 11 - Save the image\n",
    "# Finally, save the figure as a PNG.    \n",
    "# You can also save it as a PDF, JPEG, etc.    \n",
    "# Just change the file extension in this call.    \n",
    "# bbox_inches=\"tight\" removes all the extra whitespace on the edges of your plot.    \n",
    "#plt.savefig(\"percent-bachelors-degrees-women-usa.png\", bbox_inches=\"tight\") "
   ]
  },
  {
   "cell_type": "code",
   "execution_count": null,
   "metadata": {
    "collapsed": true
   },
   "outputs": [],
   "source": [
    " "
   ]
  },
  {
   "cell_type": "code",
   "execution_count": 12,
   "metadata": {
    "collapsed": false
   },
   "outputs": [
    {
     "ename": "NameError",
     "evalue": "name 'py' is not defined",
     "output_type": "error",
     "traceback": [
      "\u001b[1;31m---------------------------------------------------------------------------\u001b[0m",
      "\u001b[1;31mNameError\u001b[0m                                 Traceback (most recent call last)",
      "\u001b[1;32m<ipython-input-12-0ac215119758>\u001b[0m in \u001b[0;36m<module>\u001b[1;34m()\u001b[0m\n\u001b[0;32m      1\u001b[0m \u001b[1;31m#Find the line to make it interactive\u001b[0m\u001b[1;33m\u001b[0m\u001b[1;33m\u001b[0m\u001b[0m\n\u001b[0;32m      2\u001b[0m \u001b[0mfig_obj\u001b[0m\u001b[1;33m=\u001b[0m \u001b[0mplt\u001b[0m\u001b[1;33m.\u001b[0m\u001b[0mfigure\u001b[0m\u001b[1;33m(\u001b[0m\u001b[1;33m)\u001b[0m\u001b[1;33m\u001b[0m\u001b[0m\n\u001b[1;32m----> 3\u001b[1;33m \u001b[0mpy\u001b[0m\u001b[1;33m.\u001b[0m\u001b[0mplot_mpl\u001b[0m\u001b[1;33m(\u001b[0m\u001b[0mfig_obj\u001b[0m\u001b[1;33m)\u001b[0m\u001b[1;33m\u001b[0m\u001b[0m\n\u001b[0m\u001b[0;32m      4\u001b[0m \u001b[0mpy\u001b[0m\u001b[1;33m.\u001b[0m\u001b[0mshow\u001b[0m\u001b[1;33m(\u001b[0m\u001b[1;33m)\u001b[0m\u001b[1;33m\u001b[0m\u001b[0m\n",
      "\u001b[1;31mNameError\u001b[0m: name 'py' is not defined"
     ]
    }
   ],
   "source": [
    "#Find the line to make it interactive\n",
    "fig_obj= plt.figure()\n",
    "py.plot_mpl(fig_obj)\n",
    "py.show()"
   ]
  },
  {
   "cell_type": "code",
   "execution_count": null,
   "metadata": {
    "collapsed": true
   },
   "outputs": [],
   "source": []
  }
 ],
 "metadata": {
  "kernelspec": {
   "display_name": "Python 3",
   "language": "python",
   "name": "python3"
  },
  "language_info": {
   "codemirror_mode": {
    "name": "ipython",
    "version": 3
   },
   "file_extension": ".py",
   "mimetype": "text/x-python",
   "name": "python",
   "nbconvert_exporter": "python",
   "pygments_lexer": "ipython3",
   "version": "3.5.1"
  }
 },
 "nbformat": 4,
 "nbformat_minor": 0
}
