{
 "cells": [
  {
   "cell_type": "code",
   "execution_count": 3,
   "metadata": {
    "collapsed": false
   },
   "outputs": [
    {
     "name": "stdout",
     "output_type": "stream",
     "text": [
      "Lesson 1: Done. Excel Workbook Imported\n"
     ]
    }
   ],
   "source": [
    "#Lesson 1: Importing Excel Sheets\n",
    "#Need the openpxl library\n",
    "#openpyxl: library for handling .xlsx files only.\n",
    "import openpyxl\n",
    "\n",
    "#Use load_workbook command to import\n",
    "wb = openpyxl.load_workbook('finance_and_giving.xlsx')\n",
    "\n",
    "print('Lesson 1: Done. Excel Workbook Imported')"
   ]
  },
  {
   "cell_type": "code",
   "execution_count": 5,
   "metadata": {
    "collapsed": false
   },
   "outputs": [
    {
     "name": "stdout",
     "output_type": "stream",
     "text": [
      "Lightning initialized\n",
      "Connected to server at http://public.lightning-viz.org\n"
     ]
    },
    {
     "data": {
      "text/plain": [
       "'http://public.lightning-viz.org/visualizations/961155ef-9862-4747-879c-ea42cc26b999/public/'"
      ]
     },
     "execution_count": 5,
     "metadata": {},
     "output_type": "execute_result"
    }
   ],
   "source": [
    "## Lesson 2: Using Lightning Library to plot\n",
    "#http://lightning-viz.org/\n",
    "\n",
    "#First, one needs to install lightning library using pip\n",
    "#If windows, go to command prompt. If Mac, go to terminal. \n",
    "#Type 'pip install lightning-python' to install library (no '')\n",
    "from lightning import Lightning\n",
    "from numpy import random, ceil, array\n",
    "\n",
    "#Initialize the link we will be hosting our image to. \n",
    "lgn = Lightning(host=\"http://public.lightning-viz.org\")\n",
    "\n",
    "#Initialize our empty 2D array to put our data into\n",
    "#First, yrs[] initializes an empty 1D array\n",
    "#Second, for loop adds an empty array to each element in the 1D array\n",
    "#Add data from excel sheet into our 2D array\n",
    "sheet1 = wb.get_sheet_by_name(\"12.1.1\") #UC_Total_03to15\n",
    "yrs = []\n",
    "for rows in range(3, 13):\n",
    "    yrs.append([])\n",
    "    for cols in range(4, 15):\n",
    "      yrs[rows-3].append(sheet1.cell(row=rows, column = cols).value)\n",
    "\n",
    "#print(yrs)\n",
    "\n",
    "#Plot the data to our vizualization\n",
    "#Lgn references our lightning library\n",
    "#Line references a line plot\n",
    "#Open will open our vizualization at it's link, \"04-05\"\n",
    "#Get link will give us to the public link to share the visualization \n",
    "year_index = range(3, 14)\n",
    "viz =lgn.line(yrs, thickness= 5, xaxis = \"Years\", yaxis = \"UC Budget\", index = year_index)\n",
    "\n",
    "viz.open()\n",
    "viz.get_public_link()"
   ]
  },
  {
   "cell_type": "code",
   "execution_count": null,
   "metadata": {
    "collapsed": true
   },
   "outputs": [],
   "source": []
  }
 ],
 "metadata": {
  "kernelspec": {
   "display_name": "Python 3",
   "language": "python",
   "name": "python3"
  },
  "language_info": {
   "codemirror_mode": {
    "name": "ipython",
    "version": 3
   },
   "file_extension": ".py",
   "mimetype": "text/x-python",
   "name": "python",
   "nbconvert_exporter": "python",
   "pygments_lexer": "ipython3",
   "version": "3.5.1"
  }
 },
 "nbformat": 4,
 "nbformat_minor": 0
}
