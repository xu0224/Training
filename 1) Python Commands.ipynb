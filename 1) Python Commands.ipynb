{
 "cells": [
  {
   "cell_type": "code",
   "execution_count": 4,
   "metadata": {
    "collapsed": true
   },
   "outputs": [],
   "source": [
    "#This lesson will teach the basic python commands and library commands\n",
    "#needed to import, and edit data from an excel file\n",
    "\n",
    "#Python principles\n",
    "# working with an array\n",
    "# for loops\n",
    "# variable assignment\n",
    "\n",
    "#Python or numpy commands to learn are\n",
    "# append\n",
    "# value\n",
    "# range\n",
    "# if, elif\n",
    "# enumerate\n",
    "# comments\n",
    "# print\n",
    "\n",
    "#Openpyxl commands to learn are\n",
    "# load_workbook\n",
    "# get_sheet_by_name\n",
    "# cell"
   ]
  },
  {
   "cell_type": "code",
   "execution_count": 7,
   "metadata": {
    "collapsed": false
   },
   "outputs": [
    {
     "name": "stdout",
     "output_type": "stream",
     "text": [
      "['five', 'five']\n"
     ]
    }
   ],
   "source": [
    "#Lesson 1: Basic Principles\n",
    "\n",
    "#This is a comment\n",
    "#Next line declares a string variable\n",
    "f = 'five'\n",
    "#Next line declares an array\n",
    "myArray = []\n",
    "#Next line adds a value to the array\n",
    "myArray.append('five');\n",
    "#I also could have done\n",
    "myArray.append(f)\n",
    "#Next values prints the array\n",
    "print(myArray)\n",
    "\n",
    "#Press shift + enter to run block\n",
    "#Notice, this array has two string values"
   ]
  },
  {
   "cell_type": "code",
   "execution_count": 8,
   "metadata": {
    "collapsed": false
   },
   "outputs": [
    {
     "name": "stdout",
     "output_type": "stream",
     "text": [
      "[0, 1, 2, 3, 4, 5, 6, 7, 8, 9]\n"
     ]
    }
   ],
   "source": [
    "#Lesson 2: Add to Array using for loop\n",
    "\n",
    "#Let's make a new array\n",
    "newArray = []\n",
    "\n",
    "#Create a for loop\n",
    "#Everything indented is within the for loop\n",
    "#Notice the range function\n",
    "for i in range(0, 10):\n",
    "    newArray.append(i)  \n",
    "    \n",
    "#This is not part of the for loop\n",
    "print(newArray)\n",
    "\n",
    "#Notice, this array ends at 9, not 10"
   ]
  },
  {
   "cell_type": "code",
   "execution_count": 9,
   "metadata": {
    "collapsed": false
   },
   "outputs": [
    {
     "name": "stdout",
     "output_type": "stream",
     "text": [
      "five\n",
      "[0, 1, 20, 3, 4, 5, 6, 7, 8, 9]\n"
     ]
    }
   ],
   "source": [
    "#Lesson 3: More Arrays\n",
    "\n",
    "#We can access one variable in an array at a time using this syntax\n",
    "#This gets the 2nd variable in an array titled myArray\n",
    "print(myArray[1])\n",
    "\n",
    "#You can use this to change variables in array\n",
    "#Let's change the 3rd variable in newArray\n",
    "#Notice the change in index\n",
    "newArray[2] = 20\n",
    "\n",
    "print(newArray)"
   ]
  },
  {
   "cell_type": "code",
   "execution_count": 10,
   "metadata": {
    "collapsed": false
   },
   "outputs": [
    {
     "name": "stdout",
     "output_type": "stream",
     "text": [
      "[[0, 0, 0], [0, 0, 0], [0, 0, 0], [0, 0, 0], [0, 0, 0]]\n"
     ]
    }
   ],
   "source": [
    "#Lesson 4: 2D arrays\n",
    "\n",
    "#This is how you create a 2D array\n",
    "twoD = []\n",
    "for rows in range(0, 5):\n",
    "    twoD.append([0,0,0])\n",
    "\n",
    "#This is a 5 X 3 array of 0's\n",
    "print(twoD)"
   ]
  },
  {
   "cell_type": "code",
   "execution_count": 34,
   "metadata": {
    "collapsed": false
   },
   "outputs": [
    {
     "name": "stdout",
     "output_type": "stream",
     "text": [
      "Grants and Contracts\n",
      "Grants and Contracts\n"
     ]
    }
   ],
   "source": [
    "#Lesson 5: Importing excel files\n",
    "\n",
    "#Need the openpxl library\n",
    "#openpyxl: library for handling .xlsx files only.\n",
    "import openpyxl\n",
    "\n",
    "#Use load_workbook command to import\n",
    "#finance_and_giving.xlsx is the name of my excel file\n",
    "wb = openpyxl.load_workbook('finance_and_giving.xlsx')\n",
    "\n",
    "#Our excel file has 8 sheets\n",
    "#Use the get_sheet_by_name command\n",
    "sheet1 = wb.get_sheet_by_name(\"12.1.1\") #UC_Total_03to15\n",
    "sheet2 = wb.get_sheet_by_name(\"12.1.2\") #UC_Ind_03to15\n",
    "\n",
    "#Two commands to access cell values\n",
    "#Note-In excel, columns are letters A to Z, and rows are numbered\n",
    "#Note-Value B4 refers to row 4 column 2\n",
    "print( sheet1.cell(row=4,column=2).value ) #command 1\n",
    "print( sheet1['B4'].value ) #command 2"
   ]
  },
  {
   "cell_type": "code",
   "execution_count": 38,
   "metadata": {
    "collapsed": false
   },
   "outputs": [
    {
     "name": "stdout",
     "output_type": "stream",
     "text": [
      "Columns:\n",
      "4 03-04\n",
      "5 04-05\n",
      "6 05-06\n",
      "7 06-07\n",
      "8 07-08\n",
      "9 08-09\n",
      "10 09-10\n",
      "11 10-11\n",
      "12 11-12\n",
      "13 12-13\n",
      "14 13-14\n",
      "\n",
      "\n",
      "Row, Column, Value:\n",
      "2 4 03-04\n",
      "2 5 04-05\n",
      "2 6 05-06\n",
      "2 7 06-07\n",
      "2 8 07-08\n",
      "2 9 08-09\n",
      "2 10 09-10\n",
      "2 11 10-11\n",
      "2 12 11-12\n",
      "2 13 12-13\n",
      "2 14 13-14\n",
      "3 4 4703855.533015959\n",
      "3 5 4928878.667136051\n",
      "3 6 5043921.031657308\n",
      "3 7 5230971.695794392\n",
      "3 8 5504645.074718722\n",
      "3 9 5932930.543677559\n",
      "3 10 6389456.172786481\n",
      "3 11 7015898.718810212\n",
      "3 12 7084958.547740217\n",
      "3 13 7540238.586382454\n",
      "3 14 8057241.0\n",
      "4 4 4891514.549080522\n",
      "4 5 4945902.111888124\n",
      "4 6 4970691.477910499\n",
      "4 7 4987402.732554517\n",
      "4 8 5054209.304602082\n",
      "4 9 5081764.484108898\n",
      "4 10 5365168.117891555\n",
      "4 11 5613035.070200352\n",
      "4 12 5438999.45755067\n",
      "4 13 5151927.317990045\n",
      "4 14 5068233.0\n",
      "5 4 1761369.9330594847\n",
      "5 5 1937575.720847009\n",
      "5 6 1994414.2541500765\n",
      "5 7 2008088.3460747662\n",
      "5 8 2151509.2227061056\n",
      "5 9 2263481.6840816364\n",
      "5 10 2608442.456322934\n",
      "5 11 3006027.4705647645\n",
      "5 12 3359877.014039335\n",
      "5 13 3451977.44701845\n",
      "5 14 3585859.0\n",
      "6 4 3374808.480807036\n",
      "6 5 3063492.4514293275\n",
      "6 6 3085340.1944784755\n",
      "6 7 3228057.283333333\n",
      "6 8 3329916.024581181\n",
      "6 9 2607404.401737362\n",
      "6 10 3022633.689207183\n",
      "6 11 2834318.0823479616\n",
      "6 12 2038035.3522217902\n",
      "6 13 2185508.6864052652\n",
      "6 14 2637895.9999999995\n",
      "7 4 1273643.886982227\n",
      "7 5 1321780.249671784\n",
      "7 6 1346559.5557172026\n",
      "7 7 1444203.5450467288\n",
      "7 8 1540332.5124089143\n",
      "7 9 1576228.885821755\n",
      "7 10 1697037.7328503444\n",
      "7 11 2001801.9406197756\n",
      "7 12 2105415.0266605997\n",
      "7 13 2220838.506662407\n",
      "7 14 2378484.0\n",
      "8 4 847372.3785690968\n",
      "8 5 900323.438722428\n",
      "8 6 1145591.1503675345\n",
      "8 7 1089852.0765109034\n",
      "8 8 1220802.9692882146\n",
      "8 9 1038234.2657884903\n",
      "8 10 1345098.5288391002\n",
      "8 11 1513512.9918849051\n",
      "8 12 1569965.7197316415\n",
      "8 13 1523126.6448434878\n",
      "8 14 1434166.0\n",
      "9 4 994897.2711824445\n",
      "9 5 1052983.4525216164\n",
      "9 6 1071294.1978288242\n",
      "9 7 1169845.2274766355\n",
      "9 8 1256363.717441092\n",
      "9 9 1234889.3748407215\n",
      "9 10 1202936.3548921521\n",
      "9 11 1195483.4143629142\n",
      "9 12 1267462.9701881334\n",
      "9 13 1289419.7535877405\n",
      "9 14 1316419.0\n",
      "10 4 5260929.489127674\n",
      "10 5 5156984.369195341\n",
      "10 6 5075447.674401905\n",
      "10 7 2529154.426012461\n",
      "10 8 1173842.7657918644\n",
      "10 9 721077.3690684041\n",
      "10 10 988700.2594363176\n",
      "10 11 1043984.4401388472\n",
      "10 12 1052657.1742223438\n",
      "10 13 1047224.6451837604\n",
      "10 14 1250820.0\n",
      "11 4 696474.1078690605\n",
      "11 5 667896.8886271395\n",
      "11 6 748440.8436889569\n",
      "11 7 787331.242024922\n",
      "11 8 821645.1576772316\n",
      "11 9 716888.9687768017\n",
      "11 10 862749.3137240398\n",
      "11 11 872887.7803462683\n",
      "11 12 835204.6828897998\n",
      "11 13 813494.775956473\n",
      "11 14 881648.0\n",
      "12 4 148083.50050417118\n",
      "12 5 150081.68392623964\n",
      "12 6 176080.0236311043\n",
      "12 7 181323.43311526478\n",
      "12 8 183360.73735920255\n",
      "12 9 173935.1964395109\n",
      "12 10 159138.12374937587\n",
      "12 11 216263.19239708592\n",
      "12 12 207710.57654338438\n",
      "12 13 213751.09324346983\n",
      "12 14 458.0\n"
     ]
    }
   ],
   "source": [
    "#Lesson 6: Looping Through Values\n",
    "#Looping through columns\n",
    "print(\"Columns:\")\n",
    "for j in range(4, 15):\n",
    "    sheet1.cell(row=2, column = j).value\n",
    "    print(j, sheet1.cell(row=2, column = j).value)\n",
    "print(\"\\n\")\n",
    "\n",
    "#Looping through rows and columns- ie all values\n",
    "print(\"Row, Column, Value:\")\n",
    "for i in range(2, 13):\n",
    "    for j in range(4, 15):\n",
    "       sheet1.cell(row=i, column = j).value\n",
    "       print(i, j, sheet1.cell(row=i, column = j).value)"
   ]
  },
  {
   "cell_type": "code",
   "execution_count": null,
   "metadata": {
    "collapsed": true
   },
   "outputs": [],
   "source": [
    "##### Lesson 7: Using enumerate\n",
    "# Enumerate is a function that iterates through a list\n",
    "seasons = ['Spring', 'Summer', 'Fall', 'Winter']\n",
    "list(enumerate(seasons))"
   ]
  },
  {
   "cell_type": "code",
   "execution_count": 31,
   "metadata": {
    "collapsed": false
   },
   "outputs": [],
   "source": [
    "# Lesson 8: Enumerate cont...\n",
    "# Enumerate function is useful because we can use it to loop excel data\n",
    "import matplotlib.pyplot as plt\n",
    "import pandas as pd  \n",
    "\n",
    "data = pd.read_csv(\"http://www.randalolson.com/wp-content/uploads/percent-bachelors-degrees-women-usa.csv\")    \n",
    "\n",
    "majors = ['Health Professions', 'Public Administration', 'Education', 'Psychology',    ]   \n",
    "\n",
    "for loc in majors:\n",
    "  plt.plot(data.Year.values, \n",
    "           data[loc.replace(\"/n\", \" \")].values )\n",
    "\n",
    "plt.show()"
   ]
  },
  {
   "cell_type": "code",
   "execution_count": null,
   "metadata": {
    "collapsed": true
   },
   "outputs": [],
   "source": [
    "# Lesson End"
   ]
  }
 ],
 "metadata": {
  "kernelspec": {
   "display_name": "Python 3",
   "language": "python",
   "name": "python3"
  },
  "language_info": {
   "codemirror_mode": {
    "name": "ipython",
    "version": 3
   },
   "file_extension": ".py",
   "mimetype": "text/x-python",
   "name": "python",
   "nbconvert_exporter": "python",
   "pygments_lexer": "ipython3",
   "version": "3.5.1"
  }
 },
 "nbformat": 4,
 "nbformat_minor": 0
}
