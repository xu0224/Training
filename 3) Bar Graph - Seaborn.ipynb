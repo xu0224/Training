{
 "cells": [
  {
   "cell_type": "code",
   "execution_count": 35,
   "metadata": {
    "collapsed": true
   },
   "outputs": [],
   "source": [
    "import openpyxl\n",
    "import numpy as np\n",
    "import seaborn as sns\n",
    "import matplotlib.pyplot as plt"
   ]
  },
  {
   "cell_type": "code",
   "execution_count": 36,
   "metadata": {
    "collapsed": false
   },
   "outputs": [],
   "source": [
    "# Lesson 1: Set up an outline for the plot\n",
    "sns.set(style=\"white\", context=\"talk\")\n",
    "rs = np.random.RandomState(7)"
   ]
  },
  {
   "cell_type": "code",
   "execution_count": 37,
   "metadata": {
    "collapsed": false
   },
   "outputs": [],
   "source": [
    "# Lesson 2- Import some data\n",
    "wb = openpyxl.load_workbook('finance_and_giving.xlsx')\n",
    "sheet1 = wb.get_sheet_by_name(\"12.1.1\") #UC_Total_03to15\n",
    "\n",
    "y2005 = []\n",
    "y2010 = []\n",
    "y2014 = []\n",
    "for c in range(0,2):\n",
    "    y2005.append([])\n",
    "    y2010.append([])\n",
    "    y2014.append([])   \n",
    "    for r in range(3, 10):\n",
    "        if c == 0:\n",
    "            y2005[0].append(int(sheet1.cell(row = r, column = 5).value))\n",
    "            y2010[0].append(int(sheet1.cell(row = r, column = 10).value))\n",
    "            y2014[0].append(int(sheet1.cell(row = r, column = 14).value))\n",
    "        elif c ==1:\n",
    "            y2005[1].append(sheet1.cell(row = r, column = 2).value)\n",
    "            y2010[1].append(sheet1.cell(row = r, column = 2).value)\n",
    "            y2014[1].append(sheet1.cell(row = r, column = 2).value)"
   ]
  },
  {
   "cell_type": "code",
   "execution_count": 38,
   "metadata": {
    "collapsed": false
   },
   "outputs": [],
   "source": [
    "#Lesson 3 - Single Plot\n",
    "fig1 = sns.barplot(y2005[1], y2005[0], palette=\"BuGn_d\")\n",
    "plt.xlabel('Source of Income', fontsize = 20)\n",
    "plt.ylabel('Amount Income in Dollars', fontsize = 20)\n",
    "plt.title('Source of UC Income from 2013- 2014', fontsize = 24)\n",
    "\n",
    "ax = plt.subplot(111)    \n",
    "ax.spines[\"top\"].set_visible(False)    \n",
    "ax.spines[\"bottom\"].set_visible(False)    \n",
    "ax.spines[\"right\"].set_visible(False)    \n",
    "ax.spines[\"left\"].set_visible(False) \n",
    "\n",
    "plt.show(fig1)"
   ]
  },
  {
   "cell_type": "code",
   "execution_count": null,
   "metadata": {
    "collapsed": false
   },
   "outputs": [],
   "source": [
    "# Lesson 4 - 3 plots next to each other\n",
    "# Set up the matplotlib figure\n",
    "# We are going to plot 3 graphs on one plot\n",
    "# F is the name of the figure, ax1, ax2, and ax3 is each axis\n",
    "f , (ax1, ax2, ax3) = plt.subplots(3, 1, figsize=(8, 6), sharex=True)\n",
    "\n",
    "sns.barplot(y2005[0], y2005[1], palette=\"BuGn_d\", ax=ax1)\n",
    "ax1.set_ylabel('2004-2005', fontsize = 16)\n",
    "\n",
    "sns.barplot(y2010[0], y2010[1], palette=\"RdBu_r\", ax=ax2)\n",
    "ax2.set_ylabel('2009-2010', fontsize = 16)\n",
    "\n",
    "sns.barplot(y2014[0], y2014[1], palette=\"Set3\", ax=ax3)\n",
    "#ax3.set_ylabel(\"2014\")\n",
    "ax3.set_ylabel('2013-2014', fontsize = 16)\n",
    "\n",
    "sns.despine(bottom=True)\n",
    "plt.setp(f.axes, yticks=[])\n",
    "plt.xticks(fontsize=10)   \n",
    "plt.tight_layout(h_pad=3)\n",
    "plt.text\n",
    "plt.show()"
   ]
  },
  {
   "cell_type": "code",
   "execution_count": null,
   "metadata": {
    "collapsed": false
   },
   "outputs": [],
   "source": []
  },
  {
   "cell_type": "code",
   "execution_count": null,
   "metadata": {
    "collapsed": true
   },
   "outputs": [],
   "source": []
  }
 ],
 "metadata": {
  "kernelspec": {
   "display_name": "Python 3",
   "language": "python",
   "name": "python3"
  },
  "language_info": {
   "codemirror_mode": {
    "name": "ipython",
    "version": 3
   },
   "file_extension": ".py",
   "mimetype": "text/x-python",
   "name": "python",
   "nbconvert_exporter": "python",
   "pygments_lexer": "ipython3",
   "version": "3.5.1"
  }
 },
 "nbformat": 4,
 "nbformat_minor": 0
}
