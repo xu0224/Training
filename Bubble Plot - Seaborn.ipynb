{
 "cells": [
  {
   "cell_type": "code",
   "execution_count": 1,
   "metadata": {
    "collapsed": false
   },
   "outputs": [
    {
     "ename": "ImportError",
     "evalue": "No module named 'urllib2'",
     "output_type": "error",
     "traceback": [
      "\u001b[1;31m---------------------------------------------------------------------------\u001b[0m",
      "\u001b[1;31mImportError\u001b[0m                               Traceback (most recent call last)",
      "\u001b[1;32m<ipython-input-1-cd5f9654825b>\u001b[0m in \u001b[0;36m<module>\u001b[1;34m()\u001b[0m\n\u001b[1;32m----> 1\u001b[1;33m \u001b[1;32mimport\u001b[0m \u001b[0murllib2\u001b[0m       \u001b[1;31m# (*) urllib2 for in-session downloads\u001b[0m\u001b[1;33m\u001b[0m\u001b[0m\n\u001b[0m\u001b[0;32m      2\u001b[0m \u001b[1;32mimport\u001b[0m \u001b[0mpandas\u001b[0m \u001b[1;32mas\u001b[0m \u001b[0mpd\u001b[0m  \u001b[1;31m# (*) pandas for dataframe manipulation\u001b[0m\u001b[1;33m\u001b[0m\u001b[0m\n\u001b[0;32m      3\u001b[0m \u001b[1;33m\u001b[0m\u001b[0m\n\u001b[0;32m      4\u001b[0m \u001b[1;31m# Import data file from URL into pd datafram in session\u001b[0m\u001b[1;33m\u001b[0m\u001b[1;33m\u001b[0m\u001b[0m\n\u001b[0;32m      5\u001b[0m \u001b[0mdata_url\u001b[0m \u001b[1;33m=\u001b[0m \u001b[1;34m'http://datasets.flowingdata.com/crimeRatesByState2005.csv'\u001b[0m\u001b[1;33m\u001b[0m\u001b[0m\n",
      "\u001b[1;31mImportError\u001b[0m: No module named 'urllib2'"
     ]
    }
   ],
   "source": [
    "import urllib2       # (*) urllib2 for in-session downloads\n",
    "import pandas as pd  # (*) pandas for dataframe manipulation\n",
    "\n",
    "# Import data file from URL into pd datafram in session\n",
    "data_url = 'http://datasets.flowingdata.com/crimeRatesByState2005.csv'\n",
    "data_file = urllib2.urlopen(data_url)  \n",
    "df = pd.read_csv(data_file, sep=',')\n",
    "\n",
    "df = df.drop(df.index[0])  # drop first row (US totals) \n",
    "df = df[df['murder'] < 11] # drop out-of-range rows\n",
    "\n",
    "mpl_fig_bubble = plt.figure()         # (!) set new mpl figure object\n",
    "ax = mpl_fig_bubble.add_subplot(111)  # add axis\n",
    "\n",
    "plt.axis([0,11,200,1280])\n",
    "plt.xlabel('Murders per 100,000 population')\n",
    "plt.ylabel('Burglaries per 100,000 population')\n",
    "\n",
    "scatter = ax.scatter(\n",
    "    df['murder'], \n",
    "    df['burglary'], \n",
    "    c=df['larceny_theft'],        # using some color scale\n",
    "    s=np.sqrt(df['population']),\n",
    "    linewidths=2, \n",
    "    edgecolor='w',\n",
    "    alpha=0.6\n",
    ")\n",
    "\n",
    "for i_X, X in df.iterrows():\n",
    "    plt.text(\n",
    "        X['murder'],\n",
    "        X['burglary'],\n",
    "        X['state'][0:8], # only the first 8 letters\n",
    "        size=8,\n",
    "        horizontalalignment='center'\n",
    "    )\n"
   ]
  },
  {
   "cell_type": "code",
   "execution_count": null,
   "metadata": {
    "collapsed": true
   },
   "outputs": [],
   "source": []
  }
 ],
 "metadata": {
  "kernelspec": {
   "display_name": "Python 3",
   "language": "python",
   "name": "python3"
  },
  "language_info": {
   "codemirror_mode": {
    "name": "ipython",
    "version": 3
   },
   "file_extension": ".py",
   "mimetype": "text/x-python",
   "name": "python",
   "nbconvert_exporter": "python",
   "pygments_lexer": "ipython3",
   "version": "3.5.1"
  }
 },
 "nbformat": 4,
 "nbformat_minor": 0
}
