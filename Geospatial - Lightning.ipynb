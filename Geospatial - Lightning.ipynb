{
 "cells": [
  {
   "cell_type": "code",
   "execution_count": 1,
   "metadata": {
    "collapsed": false
   },
   "outputs": [
    {
     "name": "stderr",
     "output_type": "stream",
     "text": [
      "C:\\Users\\Ayat Amin\\Anaconda3\\lib\\site-packages\\openpyxl\\worksheet\\header_footer.py:209: UserWarning: Cannot parse header or footer so it will be ignored\n",
      "  warn(\"\"\"Cannot parse header or footer so it will be ignored\"\"\")\n",
      "C:\\Users\\Ayat Amin\\Anaconda3\\lib\\site-packages\\openpyxl\\workbook\\names\\named_range.py:121: UserWarning: Discarded range with reserved name\n",
      "  warnings.warn(\"Discarded range with reserved name\")\n"
     ]
    },
    {
     "name": "stdout",
     "output_type": "stream",
     "text": [
      "AL    -9.0    -2.1972245773362196\n",
      "AK    -3.0    -1.0986122886681098\n",
      "AZ    -11.0    -2.3978952727983707\n",
      "AR    -6.0    -1.791759469228055\n",
      "CA    55.0    4.007333185232471\n",
      "CO    9.0    2.1972245773362196\n",
      "CT    7.0    1.9459101490553132\n",
      "DE    3.0    1.0986122886681098\n",
      "DC    3.0    1.0986122886681098\n",
      "FL    29.0    3.367295829986474\n",
      "GA    -16.0    -2.772588722239781\n",
      "HI    4.0    1.3862943611198906\n",
      "ID    -4.0    -1.3862943611198906\n",
      "IL    20.0    2.995732273553991\n",
      "IN    -11.0    -2.3978952727983707\n",
      "IA    6.0    1.791759469228055\n",
      "KS    -6.0    -1.791759469228055\n",
      "KY    -8.0    -2.0794415416798357\n",
      "LA    -8.0    -2.0794415416798357\n",
      "ME    4.0    1.3862943611198906\n",
      "MD    10.0    2.302585092994046\n",
      "MA    11.0    2.3978952727983707\n",
      "MI    16.0    2.772588722239781\n",
      "MN    10.0    2.302585092994046\n",
      "MS    -6.0    -1.791759469228055\n",
      "MO    -10.0    -2.302585092994046\n",
      "MT    -3.0    -1.0986122886681098\n",
      "NE    -5.0    -1.6094379124341003\n",
      "NV    6.0    1.791759469228055\n",
      "NH    4.0    1.3862943611198906\n",
      "NJ    14.0    2.6390573296152584\n",
      "NM    5.0    1.6094379124341003\n",
      "NY    29.0    3.367295829986474\n",
      "NC    -15.0    -2.70805020110221\n",
      "ND    -3.0    -1.0986122886681098\n",
      "OH    18.0    2.8903717578961645\n",
      "OK    -7.0    -1.9459101490553132\n",
      "OR    7.0    1.9459101490553132\n",
      "PA    20.0    2.995732273553991\n",
      "RI    4.0    1.3862943611198906\n",
      "SC    -9.0    -2.1972245773362196\n",
      "SD    -3.0    -1.0986122886681098\n",
      "TN    -11.0    -2.3978952727983707\n",
      "TX    -38.0    -3.6375861597263857\n",
      "UT    -6.0    -1.791759469228055\n",
      "VT    3.0    1.0986122886681098\n",
      "VA    13.0    2.5649493574615367\n",
      "WA    12.0    2.4849066497880004\n",
      "WV    -5.0    -1.6094379124341003\n",
      "WI    10.0    2.302585092994046\n",
      "WY    -3.0    -1.0986122886681098\n"
     ]
    }
   ],
   "source": [
    "\"\"\"\n",
    "2012 election results:\n",
    "States are colored based on whether the majority of electoral votes went for the Democrat (Obama) or the Republican (Romney)\n",
    "Democrat majority = blue\n",
    "Republican majority = red\n",
    "\n",
    "Color weights are based on the log of the number of electoral votes the state has.\n",
    "(Log used because non-log does not give very pleasing array of color weights)\n",
    "\"\"\"\n",
    "\n",
    "import openpyxl\n",
    "from math import log\n",
    "\n",
    "wb = openpyxl.load_workbook('2012pres.xlsx')\n",
    "\n",
    "sheet = wb.get_sheet_by_name('Table 2. Electoral &  Pop Vote')\n",
    "\n",
    "states = []\n",
    "electoral_results = []\n",
    "\n",
    "for r in range(6,57):\n",
    "    states.append(str(sheet.cell(row=r,column=1).value))\n",
    "    D = sheet.cell(row=r,column=2).value\n",
    "    R = sheet.cell(row=r,column=3).value\n",
    "    \n",
    "    if D == None:\n",
    "        electoral_results.append(-float(R))\n",
    "    else:\n",
    "        electoral_results.append(float(D))\n",
    "\n",
    "electoral_results_log = []\n",
    "\n",
    "for x in electoral_results:\n",
    "    if x<0:\n",
    "        electoral_results_log.append(-log(abs(x)))\n",
    "    else:\n",
    "        electoral_results_log.append(log(abs(x)))\n",
    "\n",
    "for i in range(len(states)):\n",
    "    print(states[i] + \"    \" + str(electoral_results[i]) + \"    \" + str(electoral_results_log[i]))"
   ]
  },
  {
   "cell_type": "code",
   "execution_count": 2,
   "metadata": {
    "collapsed": false
   },
   "outputs": [
    {
     "name": "stdout",
     "output_type": "stream",
     "text": [
      "Lightning initialized\n",
      "Connected to server at http://public.lightning-viz.org\n"
     ]
    },
    {
     "data": {
      "text/plain": [
       "'http://public.lightning-viz.org/visualizations/de3a9db0-0f3f-44c2-b050-4000c9160668/public/'"
      ]
     },
     "execution_count": 2,
     "metadata": {},
     "output_type": "execute_result"
    }
   ],
   "source": [
    "from lightning import Lightning\n",
    "\n",
    "lgn = Lightning(host=\"http://public.lightning-viz.org\")\n",
    "\n",
    "viz = lgn.map(states, electoral_results_log, colormap=\"RdBu\")\n",
    "\n",
    "viz.open()\n",
    "viz.get_public_link()\n"
   ]
  },
  {
   "cell_type": "code",
   "execution_count": null,
   "metadata": {
    "collapsed": true
   },
   "outputs": [],
   "source": [
    "\n"
   ]
  }
 ],
 "metadata": {
  "kernelspec": {
   "display_name": "Python 3",
   "language": "python",
   "name": "python3"
  },
  "language_info": {
   "codemirror_mode": {
    "name": "ipython",
    "version": 3
   },
   "file_extension": ".py",
   "mimetype": "text/x-python",
   "name": "python",
   "nbconvert_exporter": "python",
   "pygments_lexer": "ipython3",
   "version": "3.5.1"
  }
 },
 "nbformat": 4,
 "nbformat_minor": 0
}
