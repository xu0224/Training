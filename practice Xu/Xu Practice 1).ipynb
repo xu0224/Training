{
 "cells": [
  {
   "cell_type": "code",
   "execution_count": 3,
   "metadata": {
    "collapsed": false
   },
   "outputs": [
    {
     "name": "stdout",
     "output_type": "stream",
     "text": [
      "Grants and Contracts\n",
      "Grants and Contracts\n"
     ]
    }
   ],
   "source": [
    "import openpyxl\n",
    "wb = openpyxl.load_workbook('finance_and_giving.xlsx')\n",
    "Sheet1 = wb.get_sheet_by_name(\"12.1.1\")\n",
    "print(Sheet1['B4'].value)\n",
    "print(Sheet1.cell(row=4, column=2).value)"
   ]
  },
  {
   "cell_type": "code",
   "execution_count": 16,
   "metadata": {
    "collapsed": false
   },
   "outputs": [
    {
     "name": "stdout",
     "output_type": "stream",
     "text": [
      "(4, 4703855.533015959)\n",
      "(5, 4928878.667136051)\n",
      "(6, 5043921.031657308)\n",
      "(7, 5230971.695794392)\n",
      "(8, 5504645.074718722)\n",
      "(9, 5932930.543677559)\n",
      "(10, 6389456.172786481)\n",
      "(11, 7015898.718810212)\n",
      "(12, 7084958.547740217)\n",
      "(13, 7540238.586382454)\n",
      "(14, 8057241.0)\n",
      "[u'03-04', u'04-05', u'05-06', u'06-07', u'07-08', u'08-09', u'09-10', u'10-11', u'11-12', u'12-13', u'13-14']\n"
     ]
    }
   ],
   "source": [
    "array = []\n",
    "for j in range(4,15):\n",
    "    print(j, Sheet1.cell(row=3, column=j).value)"
   ]
  },
  {
   "cell_type": "code",
   "execution_count": null,
   "metadata": {
    "collapsed": true
   },
   "outputs": [],
   "source": []
  }
 ],
 "metadata": {
  "kernelspec": {
   "display_name": "Python 2",
   "language": "python",
   "name": "python2"
  },
  "language_info": {
   "codemirror_mode": {
    "name": "ipython",
    "version": 2
   },
   "file_extension": ".py",
   "mimetype": "text/x-python",
   "name": "python",
   "nbconvert_exporter": "python",
   "pygments_lexer": "ipython2",
   "version": "2.7.11"
  }
 },
 "nbformat": 4,
 "nbformat_minor": 0
}
