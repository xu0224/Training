{
 "cells": [
  {
   "cell_type": "code",
   "execution_count": 1,
   "metadata": {
    "collapsed": true
   },
   "outputs": [],
   "source": [
    "import openpyxl\n",
    "import numpy as np\n",
    "import seaborn as sns\n",
    "import matplotlib.pyplot as plt"
   ]
  },
  {
   "cell_type": "code",
   "execution_count": 2,
   "metadata": {
    "collapsed": true
   },
   "outputs": [],
   "source": [
    "sns.set(style=\"white\", context=\"talk\")\n",
    "rs = np.random.RandomState(7)"
   ]
  },
  {
   "cell_type": "code",
   "execution_count": 8,
   "metadata": {
    "collapsed": false
   },
   "outputs": [
    {
     "name": "stdout",
     "output_type": "stream",
     "text": [
      "[[4928878, 4945902, 1937575, 3063492, 1321780, 900323, 1052983], [u'Medical Centers', u'Grants and Contracts', u'Student Tuition and Fees', u'State Educational Appropriations', u'Educational Activities', u'Other', u'Auxiliary Enterprises']]\n"
     ]
    }
   ],
   "source": [
    "wb = openpyxl.load_workbook('finance_and_giving.xlsx')\n",
    "sheet1 = wb.get_sheet_by_name('12.1.1')\n",
    "y2005 = []\n",
    "y2010 = []\n",
    "y2014 = []\n",
    "for c in range(0,2):\n",
    "    y2005.append([])\n",
    "    y2010.append([])\n",
    "    y2014.append([])   \n",
    "    for r in range(3, 10):\n",
    "        if c == 0:\n",
    "            y2005[0].append(int(sheet1.cell(row = r, column = 5).value))\n",
    "            y2010[0].append(int(sheet1.cell(row = r, column = 10).value))\n",
    "            y2014[0].append(int(sheet1.cell(row = r, column = 14).value))\n",
    "        elif c ==1:\n",
    "            y2005[1].append(sheet1.cell(row = r, column = 2).value)\n",
    "            y2010[1].append(sheet1.cell(row = r, column = 2).value)\n",
    "            y2014[1].append(sheet1.cell(row = r, column = 2).value)\n",
    "print(y2005)"
   ]
  },
  {
   "cell_type": "code",
   "execution_count": 5,
   "metadata": {
    "collapsed": true
   },
   "outputs": [],
   "source": [
    "fig1 = sns.barplot(y2005[1], y2005[0], palette=\"BuGn_d\")\n",
    "plt.xlabel('Source of Income', fontsize = 20)\n",
    "plt.ylabel('Amount Income in Dollars', fontsize = 20)\n",
    "plt.title('Source of UC Income from 2013- 2014', fontsize = 24)\n",
    "\n",
    "ax = plt.subplot(111)    \n",
    "ax.spines[\"top\"].set_visible(False)    \n",
    "ax.spines[\"bottom\"].set_visible(False)    \n",
    "ax.spines[\"right\"].set_visible(False)    \n",
    "ax.spines[\"left\"].set_visible(False) \n",
    "\n",
    "plt.show(fig1)"
   ]
  },
  {
   "cell_type": "code",
   "execution_count": null,
   "metadata": {
    "collapsed": false
   },
   "outputs": [],
   "source": [
    "f , (ax1, ax2, ax3) = plt.subplots(3, 1, figsize=(8, 6), sharex=True)\n",
    "\n",
    "sns.barplot(y2005[1], y2005[0], palette=\"BuGn_d\", ax=ax1)\n",
    "ax1.set_ylabel('2004-2005', fontsize = 16)\n",
    "\n",
    "sns.barplot(y2010[1], y2010[0], palette=\"RdBu_r\", ax=ax2)\n",
    "ax2.set_ylabel('2009-2010', fontsize = 16)\n",
    "\n",
    "sns.barplot(y2014[1], y2014[0], palette=\"Set3\", ax=ax3)\n",
    "#ax3.set_ylabel(\"2014\")\n",
    "ax3.set_ylabel('2013-2014', fontsize = 16)\n",
    "\n",
    "sns.despine(bottom=True)\n",
    "plt.setp(f.axes, yticks=[])\n",
    "plt.xticks(fontsize=10)   \n",
    "plt.tight_layout(h_pad=3)\n",
    "plt.text\n",
    "plt.show()"
   ]
  },
  {
   "cell_type": "code",
   "execution_count": null,
   "metadata": {
    "collapsed": true
   },
   "outputs": [],
   "source": []
  }
 ],
 "metadata": {
  "kernelspec": {
   "display_name": "Python 2",
   "language": "python",
   "name": "python2"
  },
  "language_info": {
   "codemirror_mode": {
    "name": "ipython",
    "version": 2
   },
   "file_extension": ".py",
   "mimetype": "text/x-python",
   "name": "python",
   "nbconvert_exporter": "python",
   "pygments_lexer": "ipython2",
   "version": "2.7.11"
  }
 },
 "nbformat": 4,
 "nbformat_minor": 0
}
